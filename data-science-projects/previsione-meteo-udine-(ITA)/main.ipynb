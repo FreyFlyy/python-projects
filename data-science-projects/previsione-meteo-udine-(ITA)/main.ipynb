{
  "nbformat": 4,
  "nbformat_minor": 0,
  "metadata": {
    "colab": {
      "provenance": []
    },
    "kernelspec": {
      "name": "python3",
      "display_name": "Python 3"
    },
    "language_info": {
      "name": "python"
    }
  },
  "cells": [
    {
      "cell_type": "markdown",
      "source": [
        "# Predittore di precipitazione nella città di Udine (S. Osvaldo)\n",
        "\n",
        "Questo programma aiuta a predirre la situazione di pioggia del giorno sucessivo partendo da alcuni dati del giorno attuale.\n",
        "\n",
        "Nello specifico, utilizza:\n",
        "* mm di Pioggia di oggi\n",
        "* Temperature (massima, minima, media)\n",
        "* Umidità (massima, media)\n",
        "* Anno, Mese e Giorno (come posizione nel mese)\n",
        "* Vento (massimo, medio, direzione)\n",
        "* Irradiamento solare (in KJ/m2)\n",
        "* Pressione atmosferica media (in Pascal)\n",
        "\n",
        "L'output invece sarà una stringa, che sarà:\n",
        "* \"Nulla o Minima\" (<= 0.6 mm / giorno)\n",
        "* \"Presente\" (> 0.6 mm / giorno)\n",
        "\n",
        "Il valore di sbarramento di 0.6 mm / giorno è stato selezionato al posto del più intuitivo 0.0 mm / giorno come compromesso per evitare il rumore casuale che può influenzare la misurazione.\n",
        "\n",
        "Per chi è più esperto, è possibile anche modificare il codice provando altri modelli con altri parametri per ottenere risultati diversi"
      ],
      "metadata": {
        "id": "uSeDcqt1SNy9"
      }
    },
    {
      "cell_type": "markdown",
      "source": [
        "Per iniziare, importeremo alcuni moduli necessari per il funzionamento dei modelli. Sucessivamente importeremo il file contente i dati relativi al passato meteorologico, che per comodità è già stato pulito"
      ],
      "metadata": {
        "id": "WtE6kYmUUDfH"
      }
    },
    {
      "cell_type": "code",
      "source": [
        "import sklearn\n",
        "import pandas as pd\n",
        "import numpy as np\n",
        "import joblib\n",
        "\n",
        "df = pd.read_parquet(\"https://raw.githubusercontent.com/FreyFlyy/data-science-files/main/Udine_dati_meteo.parquet\")"
      ],
      "metadata": {
        "id": "yteRCzfLDTrM"
      },
      "execution_count": 116,
      "outputs": []
    },
    {
      "cell_type": "markdown",
      "source": [
        "Ora andremo a definire le varie colonne del dataframe, distinguendole tra input e output, e tra numeriche e categoriche, automaticamente.\n",
        "Andremo anche a creare una lista di colonne da ignorare durante la fase di training, che però in questo caso è vuota dato che useremo tutte le variabili"
      ],
      "metadata": {
        "id": "Pul8Oqr5Ul0R"
      }
    },
    {
      "cell_type": "code",
      "source": [
        "cols_to_ignore = []\n",
        "cols_to_ignore.append(\"PioggiaDomani\")\n",
        "\n",
        "input_cols = df.columns.drop(cols_to_ignore)\n",
        "output_cols = [\"PioggiaDomani\"]\n",
        "\n",
        "numerical_cols = df[input_cols].select_dtypes(include=[np.number]).columns\n",
        "categorical_cols = df[input_cols].select_dtypes(include=[\"object\"]).columns"
      ],
      "metadata": {
        "id": "Ym0mx1WWVAVr"
      },
      "execution_count": 117,
      "outputs": []
    },
    {
      "cell_type": "markdown",
      "source": [
        "Dopo aver definito le colonne, procederemo a trasformare tutti i dati:\n",
        "* Andremo a riempire i valori vuoti di ogni colonna con SimpleImputer di scikit-learnì\n",
        "* Poi, trasformeremo le variabili categoriche (non numeriche) in un formato leggibile dai modelli tramite OneHotEncoding\n",
        "\n",
        "In questo caso non standardizzeremo i dati, essendo che useremo un modello ad albero, che per come sono strutturati non hanno bisogno di modifiche ulteriori"
      ],
      "metadata": {
        "id": "W7EemwueVDIc"
      }
    },
    {
      "cell_type": "code",
      "source": [
        "imputer = sklearn.impute.SimpleImputer(strategy=\"mean\")\n",
        "imputer.fit(df[numerical_cols])\n",
        "df[numerical_cols] = imputer.transform(df[numerical_cols])\n",
        "\n",
        "encoder = sklearn.preprocessing.OneHotEncoder()\n",
        "encoder.fit(df[categorical_cols])\n",
        "encoded = encoder.transform(df[categorical_cols]).toarray()\n",
        "encoded_df = pd.DataFrame(encoded, columns=encoder.get_feature_names_out(categorical_cols), index=df.index)\n",
        "df = pd.concat([df.drop(columns=categorical_cols), encoded_df], axis=1)"
      ],
      "metadata": {
        "id": "iq3As2BlVDjf"
      },
      "execution_count": 118,
      "outputs": []
    },
    {
      "cell_type": "markdown",
      "source": [
        "Una volta preparati i dati, li possiamo dividere in due set:\n",
        "* Uno di training (da usare per addestrare il modello, 80% del totale)\n",
        "* E uno di test (per testare il modello e quanto affidabile è, 20% del totale)"
      ],
      "metadata": {
        "id": "JLUg-04DWGdh"
      }
    },
    {
      "cell_type": "code",
      "source": [
        "input_cols = df.columns.drop(cols_to_ignore)\n",
        "output_cols = [\"PioggiaDomani\"]\n",
        "\n",
        "df_train = df[:int(len(df)*0.8)]\n",
        "df_test = df[int(len(df)*0.8):]\n",
        "\n",
        "train_input = df_train[input_cols]\n",
        "train_output = df_train[output_cols]\n",
        "test_input = df_test[input_cols]\n",
        "test_output = df_test[output_cols]"
      ],
      "metadata": {
        "id": "mJXaAMR3WG4t"
      },
      "execution_count": 119,
      "outputs": []
    },
    {
      "cell_type": "markdown",
      "source": [
        "Essendo i casi di training sbilanciati, procederemo a specificare i diversi pesi da dare ai due casi di pioggia (\"Nulla o Minima\" e \"Presente\") in linea con le loro proporzioni\n",
        "(Il fattore 1.0327 è stato messo per bilanciare le metriche di affidabilità che andremo a vedere poi)"
      ],
      "metadata": {
        "id": "MrTwqqJpW5fr"
      }
    },
    {
      "cell_type": "code",
      "source": [
        "factor = 1.0327\n",
        "\n",
        "nul_weight = (df.shape[0] / df[df[\"PioggiaDomani\"] == \"Nulla o Minima\"].shape[0])**factor\n",
        "pres_weight = (df.shape[0] / df[df[\"PioggiaDomani\"] == \"Presente\"].shape[0])**factor\n",
        "\n",
        "cl_wght = {\"Nulla o Minima\": nul_weight, \"Presente\": pres_weight}\n",
        "\n",
        "proporzioni = df[\"PioggiaDomani\"].value_counts()\n",
        "print(f\"# Proporzioni nei dati reali (non omogenee)\\n\\n- Casi di giornata limpida 🌥️: {proporzioni.iloc[0]}\\n- Casi di pioggia 🌧️: {proporzioni.iloc[1]}\")"
      ],
      "metadata": {
        "colab": {
          "base_uri": "https://localhost:8080/"
        },
        "id": "9m11Ht8S9bMg",
        "outputId": "c9b8f3db-223d-44e9-f910-8073f75353f7"
      },
      "execution_count": 120,
      "outputs": [
        {
          "output_type": "stream",
          "name": "stdout",
          "text": [
            "# Proporzioni nei dati reali (non omogenee)\n",
            "\n",
            "- Casi di giornata limpida 🌥️: 2469\n",
            "- Casi di pioggia 🌧️: 1018\n"
          ]
        }
      ]
    },
    {
      "cell_type": "markdown",
      "source": [
        "Dopo aver sperimentato diverse combinazioni tra la profondità dell'albero (max_depth) e il coefficiente di riequilibrio delle classi (factor), abbiamo identificato che i valori max_depth = 2, factor = 1.0327 rappresentano un buon compromesso, ma non per forza il migliore\n",
        "\n",
        "Questo punto ottimizza la distanza tra i recall delle due classi, mantenendo il modello semplice e interpretabile\n",
        "\n",
        "\n",
        "\n",
        "---\n",
        "\n",
        "\n",
        "\n",
        "Ora passiamo alla creazione del modello.\n",
        "Useremo come anticipato un modello ad albero decisionale di tipo ensembie, chiamaro RandomForestClassifier, da scikit-learn\n",
        "A differenza di modelli non ensembie, questi creano diversi modelli individuali con caratteristiche variegate, per poi unirli insieme sfruttando lo smorzamento degli errori dei singoli modelli rapportati alla loro interità"
      ],
      "metadata": {
        "id": "XYagJ8eW9bgw"
      }
    },
    {
      "cell_type": "code",
      "source": [
        "model = sklearn.ensemble.RandomForestClassifier(max_depth = 2, random_state = 42, bootstrap = True, class_weight = {\"Nulla o Minima\": nul_weight, \"Presente\": pres_weight})\n",
        "model.fit(train_input, train_output.values.ravel())"
      ],
      "metadata": {
        "colab": {
          "base_uri": "https://localhost:8080/",
          "height": 115
        },
        "id": "sbLAxEPqW5rf",
        "outputId": "a2bcf885-a657-4e8e-e8a1-2893908de09c"
      },
      "execution_count": 121,
      "outputs": [
        {
          "output_type": "execute_result",
          "data": {
            "text/plain": [
              "RandomForestClassifier(class_weight={'Nulla o Minima': 1.428346570864554,\n",
              "                                     'Presente': 3.5660628712917144},\n",
              "                       max_depth=2, random_state=42)"
            ],
            "text/html": [
              "<style>#sk-container-id-8 {\n",
              "  /* Definition of color scheme common for light and dark mode */\n",
              "  --sklearn-color-text: #000;\n",
              "  --sklearn-color-text-muted: #666;\n",
              "  --sklearn-color-line: gray;\n",
              "  /* Definition of color scheme for unfitted estimators */\n",
              "  --sklearn-color-unfitted-level-0: #fff5e6;\n",
              "  --sklearn-color-unfitted-level-1: #f6e4d2;\n",
              "  --sklearn-color-unfitted-level-2: #ffe0b3;\n",
              "  --sklearn-color-unfitted-level-3: chocolate;\n",
              "  /* Definition of color scheme for fitted estimators */\n",
              "  --sklearn-color-fitted-level-0: #f0f8ff;\n",
              "  --sklearn-color-fitted-level-1: #d4ebff;\n",
              "  --sklearn-color-fitted-level-2: #b3dbfd;\n",
              "  --sklearn-color-fitted-level-3: cornflowerblue;\n",
              "\n",
              "  /* Specific color for light theme */\n",
              "  --sklearn-color-text-on-default-background: var(--sg-text-color, var(--theme-code-foreground, var(--jp-content-font-color1, black)));\n",
              "  --sklearn-color-background: var(--sg-background-color, var(--theme-background, var(--jp-layout-color0, white)));\n",
              "  --sklearn-color-border-box: var(--sg-text-color, var(--theme-code-foreground, var(--jp-content-font-color1, black)));\n",
              "  --sklearn-color-icon: #696969;\n",
              "\n",
              "  @media (prefers-color-scheme: dark) {\n",
              "    /* Redefinition of color scheme for dark theme */\n",
              "    --sklearn-color-text-on-default-background: var(--sg-text-color, var(--theme-code-foreground, var(--jp-content-font-color1, white)));\n",
              "    --sklearn-color-background: var(--sg-background-color, var(--theme-background, var(--jp-layout-color0, #111)));\n",
              "    --sklearn-color-border-box: var(--sg-text-color, var(--theme-code-foreground, var(--jp-content-font-color1, white)));\n",
              "    --sklearn-color-icon: #878787;\n",
              "  }\n",
              "}\n",
              "\n",
              "#sk-container-id-8 {\n",
              "  color: var(--sklearn-color-text);\n",
              "}\n",
              "\n",
              "#sk-container-id-8 pre {\n",
              "  padding: 0;\n",
              "}\n",
              "\n",
              "#sk-container-id-8 input.sk-hidden--visually {\n",
              "  border: 0;\n",
              "  clip: rect(1px 1px 1px 1px);\n",
              "  clip: rect(1px, 1px, 1px, 1px);\n",
              "  height: 1px;\n",
              "  margin: -1px;\n",
              "  overflow: hidden;\n",
              "  padding: 0;\n",
              "  position: absolute;\n",
              "  width: 1px;\n",
              "}\n",
              "\n",
              "#sk-container-id-8 div.sk-dashed-wrapped {\n",
              "  border: 1px dashed var(--sklearn-color-line);\n",
              "  margin: 0 0.4em 0.5em 0.4em;\n",
              "  box-sizing: border-box;\n",
              "  padding-bottom: 0.4em;\n",
              "  background-color: var(--sklearn-color-background);\n",
              "}\n",
              "\n",
              "#sk-container-id-8 div.sk-container {\n",
              "  /* jupyter's `normalize.less` sets `[hidden] { display: none; }`\n",
              "     but bootstrap.min.css set `[hidden] { display: none !important; }`\n",
              "     so we also need the `!important` here to be able to override the\n",
              "     default hidden behavior on the sphinx rendered scikit-learn.org.\n",
              "     See: https://github.com/scikit-learn/scikit-learn/issues/21755 */\n",
              "  display: inline-block !important;\n",
              "  position: relative;\n",
              "}\n",
              "\n",
              "#sk-container-id-8 div.sk-text-repr-fallback {\n",
              "  display: none;\n",
              "}\n",
              "\n",
              "div.sk-parallel-item,\n",
              "div.sk-serial,\n",
              "div.sk-item {\n",
              "  /* draw centered vertical line to link estimators */\n",
              "  background-image: linear-gradient(var(--sklearn-color-text-on-default-background), var(--sklearn-color-text-on-default-background));\n",
              "  background-size: 2px 100%;\n",
              "  background-repeat: no-repeat;\n",
              "  background-position: center center;\n",
              "}\n",
              "\n",
              "/* Parallel-specific style estimator block */\n",
              "\n",
              "#sk-container-id-8 div.sk-parallel-item::after {\n",
              "  content: \"\";\n",
              "  width: 100%;\n",
              "  border-bottom: 2px solid var(--sklearn-color-text-on-default-background);\n",
              "  flex-grow: 1;\n",
              "}\n",
              "\n",
              "#sk-container-id-8 div.sk-parallel {\n",
              "  display: flex;\n",
              "  align-items: stretch;\n",
              "  justify-content: center;\n",
              "  background-color: var(--sklearn-color-background);\n",
              "  position: relative;\n",
              "}\n",
              "\n",
              "#sk-container-id-8 div.sk-parallel-item {\n",
              "  display: flex;\n",
              "  flex-direction: column;\n",
              "}\n",
              "\n",
              "#sk-container-id-8 div.sk-parallel-item:first-child::after {\n",
              "  align-self: flex-end;\n",
              "  width: 50%;\n",
              "}\n",
              "\n",
              "#sk-container-id-8 div.sk-parallel-item:last-child::after {\n",
              "  align-self: flex-start;\n",
              "  width: 50%;\n",
              "}\n",
              "\n",
              "#sk-container-id-8 div.sk-parallel-item:only-child::after {\n",
              "  width: 0;\n",
              "}\n",
              "\n",
              "/* Serial-specific style estimator block */\n",
              "\n",
              "#sk-container-id-8 div.sk-serial {\n",
              "  display: flex;\n",
              "  flex-direction: column;\n",
              "  align-items: center;\n",
              "  background-color: var(--sklearn-color-background);\n",
              "  padding-right: 1em;\n",
              "  padding-left: 1em;\n",
              "}\n",
              "\n",
              "\n",
              "/* Toggleable style: style used for estimator/Pipeline/ColumnTransformer box that is\n",
              "clickable and can be expanded/collapsed.\n",
              "- Pipeline and ColumnTransformer use this feature and define the default style\n",
              "- Estimators will overwrite some part of the style using the `sk-estimator` class\n",
              "*/\n",
              "\n",
              "/* Pipeline and ColumnTransformer style (default) */\n",
              "\n",
              "#sk-container-id-8 div.sk-toggleable {\n",
              "  /* Default theme specific background. It is overwritten whether we have a\n",
              "  specific estimator or a Pipeline/ColumnTransformer */\n",
              "  background-color: var(--sklearn-color-background);\n",
              "}\n",
              "\n",
              "/* Toggleable label */\n",
              "#sk-container-id-8 label.sk-toggleable__label {\n",
              "  cursor: pointer;\n",
              "  display: flex;\n",
              "  width: 100%;\n",
              "  margin-bottom: 0;\n",
              "  padding: 0.5em;\n",
              "  box-sizing: border-box;\n",
              "  text-align: center;\n",
              "  align-items: start;\n",
              "  justify-content: space-between;\n",
              "  gap: 0.5em;\n",
              "}\n",
              "\n",
              "#sk-container-id-8 label.sk-toggleable__label .caption {\n",
              "  font-size: 0.6rem;\n",
              "  font-weight: lighter;\n",
              "  color: var(--sklearn-color-text-muted);\n",
              "}\n",
              "\n",
              "#sk-container-id-8 label.sk-toggleable__label-arrow:before {\n",
              "  /* Arrow on the left of the label */\n",
              "  content: \"▸\";\n",
              "  float: left;\n",
              "  margin-right: 0.25em;\n",
              "  color: var(--sklearn-color-icon);\n",
              "}\n",
              "\n",
              "#sk-container-id-8 label.sk-toggleable__label-arrow:hover:before {\n",
              "  color: var(--sklearn-color-text);\n",
              "}\n",
              "\n",
              "/* Toggleable content - dropdown */\n",
              "\n",
              "#sk-container-id-8 div.sk-toggleable__content {\n",
              "  max-height: 0;\n",
              "  max-width: 0;\n",
              "  overflow: hidden;\n",
              "  text-align: left;\n",
              "  /* unfitted */\n",
              "  background-color: var(--sklearn-color-unfitted-level-0);\n",
              "}\n",
              "\n",
              "#sk-container-id-8 div.sk-toggleable__content.fitted {\n",
              "  /* fitted */\n",
              "  background-color: var(--sklearn-color-fitted-level-0);\n",
              "}\n",
              "\n",
              "#sk-container-id-8 div.sk-toggleable__content pre {\n",
              "  margin: 0.2em;\n",
              "  border-radius: 0.25em;\n",
              "  color: var(--sklearn-color-text);\n",
              "  /* unfitted */\n",
              "  background-color: var(--sklearn-color-unfitted-level-0);\n",
              "}\n",
              "\n",
              "#sk-container-id-8 div.sk-toggleable__content.fitted pre {\n",
              "  /* unfitted */\n",
              "  background-color: var(--sklearn-color-fitted-level-0);\n",
              "}\n",
              "\n",
              "#sk-container-id-8 input.sk-toggleable__control:checked~div.sk-toggleable__content {\n",
              "  /* Expand drop-down */\n",
              "  max-height: 200px;\n",
              "  max-width: 100%;\n",
              "  overflow: auto;\n",
              "}\n",
              "\n",
              "#sk-container-id-8 input.sk-toggleable__control:checked~label.sk-toggleable__label-arrow:before {\n",
              "  content: \"▾\";\n",
              "}\n",
              "\n",
              "/* Pipeline/ColumnTransformer-specific style */\n",
              "\n",
              "#sk-container-id-8 div.sk-label input.sk-toggleable__control:checked~label.sk-toggleable__label {\n",
              "  color: var(--sklearn-color-text);\n",
              "  background-color: var(--sklearn-color-unfitted-level-2);\n",
              "}\n",
              "\n",
              "#sk-container-id-8 div.sk-label.fitted input.sk-toggleable__control:checked~label.sk-toggleable__label {\n",
              "  background-color: var(--sklearn-color-fitted-level-2);\n",
              "}\n",
              "\n",
              "/* Estimator-specific style */\n",
              "\n",
              "/* Colorize estimator box */\n",
              "#sk-container-id-8 div.sk-estimator input.sk-toggleable__control:checked~label.sk-toggleable__label {\n",
              "  /* unfitted */\n",
              "  background-color: var(--sklearn-color-unfitted-level-2);\n",
              "}\n",
              "\n",
              "#sk-container-id-8 div.sk-estimator.fitted input.sk-toggleable__control:checked~label.sk-toggleable__label {\n",
              "  /* fitted */\n",
              "  background-color: var(--sklearn-color-fitted-level-2);\n",
              "}\n",
              "\n",
              "#sk-container-id-8 div.sk-label label.sk-toggleable__label,\n",
              "#sk-container-id-8 div.sk-label label {\n",
              "  /* The background is the default theme color */\n",
              "  color: var(--sklearn-color-text-on-default-background);\n",
              "}\n",
              "\n",
              "/* On hover, darken the color of the background */\n",
              "#sk-container-id-8 div.sk-label:hover label.sk-toggleable__label {\n",
              "  color: var(--sklearn-color-text);\n",
              "  background-color: var(--sklearn-color-unfitted-level-2);\n",
              "}\n",
              "\n",
              "/* Label box, darken color on hover, fitted */\n",
              "#sk-container-id-8 div.sk-label.fitted:hover label.sk-toggleable__label.fitted {\n",
              "  color: var(--sklearn-color-text);\n",
              "  background-color: var(--sklearn-color-fitted-level-2);\n",
              "}\n",
              "\n",
              "/* Estimator label */\n",
              "\n",
              "#sk-container-id-8 div.sk-label label {\n",
              "  font-family: monospace;\n",
              "  font-weight: bold;\n",
              "  display: inline-block;\n",
              "  line-height: 1.2em;\n",
              "}\n",
              "\n",
              "#sk-container-id-8 div.sk-label-container {\n",
              "  text-align: center;\n",
              "}\n",
              "\n",
              "/* Estimator-specific */\n",
              "#sk-container-id-8 div.sk-estimator {\n",
              "  font-family: monospace;\n",
              "  border: 1px dotted var(--sklearn-color-border-box);\n",
              "  border-radius: 0.25em;\n",
              "  box-sizing: border-box;\n",
              "  margin-bottom: 0.5em;\n",
              "  /* unfitted */\n",
              "  background-color: var(--sklearn-color-unfitted-level-0);\n",
              "}\n",
              "\n",
              "#sk-container-id-8 div.sk-estimator.fitted {\n",
              "  /* fitted */\n",
              "  background-color: var(--sklearn-color-fitted-level-0);\n",
              "}\n",
              "\n",
              "/* on hover */\n",
              "#sk-container-id-8 div.sk-estimator:hover {\n",
              "  /* unfitted */\n",
              "  background-color: var(--sklearn-color-unfitted-level-2);\n",
              "}\n",
              "\n",
              "#sk-container-id-8 div.sk-estimator.fitted:hover {\n",
              "  /* fitted */\n",
              "  background-color: var(--sklearn-color-fitted-level-2);\n",
              "}\n",
              "\n",
              "/* Specification for estimator info (e.g. \"i\" and \"?\") */\n",
              "\n",
              "/* Common style for \"i\" and \"?\" */\n",
              "\n",
              ".sk-estimator-doc-link,\n",
              "a:link.sk-estimator-doc-link,\n",
              "a:visited.sk-estimator-doc-link {\n",
              "  float: right;\n",
              "  font-size: smaller;\n",
              "  line-height: 1em;\n",
              "  font-family: monospace;\n",
              "  background-color: var(--sklearn-color-background);\n",
              "  border-radius: 1em;\n",
              "  height: 1em;\n",
              "  width: 1em;\n",
              "  text-decoration: none !important;\n",
              "  margin-left: 0.5em;\n",
              "  text-align: center;\n",
              "  /* unfitted */\n",
              "  border: var(--sklearn-color-unfitted-level-1) 1pt solid;\n",
              "  color: var(--sklearn-color-unfitted-level-1);\n",
              "}\n",
              "\n",
              ".sk-estimator-doc-link.fitted,\n",
              "a:link.sk-estimator-doc-link.fitted,\n",
              "a:visited.sk-estimator-doc-link.fitted {\n",
              "  /* fitted */\n",
              "  border: var(--sklearn-color-fitted-level-1) 1pt solid;\n",
              "  color: var(--sklearn-color-fitted-level-1);\n",
              "}\n",
              "\n",
              "/* On hover */\n",
              "div.sk-estimator:hover .sk-estimator-doc-link:hover,\n",
              ".sk-estimator-doc-link:hover,\n",
              "div.sk-label-container:hover .sk-estimator-doc-link:hover,\n",
              ".sk-estimator-doc-link:hover {\n",
              "  /* unfitted */\n",
              "  background-color: var(--sklearn-color-unfitted-level-3);\n",
              "  color: var(--sklearn-color-background);\n",
              "  text-decoration: none;\n",
              "}\n",
              "\n",
              "div.sk-estimator.fitted:hover .sk-estimator-doc-link.fitted:hover,\n",
              ".sk-estimator-doc-link.fitted:hover,\n",
              "div.sk-label-container:hover .sk-estimator-doc-link.fitted:hover,\n",
              ".sk-estimator-doc-link.fitted:hover {\n",
              "  /* fitted */\n",
              "  background-color: var(--sklearn-color-fitted-level-3);\n",
              "  color: var(--sklearn-color-background);\n",
              "  text-decoration: none;\n",
              "}\n",
              "\n",
              "/* Span, style for the box shown on hovering the info icon */\n",
              ".sk-estimator-doc-link span {\n",
              "  display: none;\n",
              "  z-index: 9999;\n",
              "  position: relative;\n",
              "  font-weight: normal;\n",
              "  right: .2ex;\n",
              "  padding: .5ex;\n",
              "  margin: .5ex;\n",
              "  width: min-content;\n",
              "  min-width: 20ex;\n",
              "  max-width: 50ex;\n",
              "  color: var(--sklearn-color-text);\n",
              "  box-shadow: 2pt 2pt 4pt #999;\n",
              "  /* unfitted */\n",
              "  background: var(--sklearn-color-unfitted-level-0);\n",
              "  border: .5pt solid var(--sklearn-color-unfitted-level-3);\n",
              "}\n",
              "\n",
              ".sk-estimator-doc-link.fitted span {\n",
              "  /* fitted */\n",
              "  background: var(--sklearn-color-fitted-level-0);\n",
              "  border: var(--sklearn-color-fitted-level-3);\n",
              "}\n",
              "\n",
              ".sk-estimator-doc-link:hover span {\n",
              "  display: block;\n",
              "}\n",
              "\n",
              "/* \"?\"-specific style due to the `<a>` HTML tag */\n",
              "\n",
              "#sk-container-id-8 a.estimator_doc_link {\n",
              "  float: right;\n",
              "  font-size: 1rem;\n",
              "  line-height: 1em;\n",
              "  font-family: monospace;\n",
              "  background-color: var(--sklearn-color-background);\n",
              "  border-radius: 1rem;\n",
              "  height: 1rem;\n",
              "  width: 1rem;\n",
              "  text-decoration: none;\n",
              "  /* unfitted */\n",
              "  color: var(--sklearn-color-unfitted-level-1);\n",
              "  border: var(--sklearn-color-unfitted-level-1) 1pt solid;\n",
              "}\n",
              "\n",
              "#sk-container-id-8 a.estimator_doc_link.fitted {\n",
              "  /* fitted */\n",
              "  border: var(--sklearn-color-fitted-level-1) 1pt solid;\n",
              "  color: var(--sklearn-color-fitted-level-1);\n",
              "}\n",
              "\n",
              "/* On hover */\n",
              "#sk-container-id-8 a.estimator_doc_link:hover {\n",
              "  /* unfitted */\n",
              "  background-color: var(--sklearn-color-unfitted-level-3);\n",
              "  color: var(--sklearn-color-background);\n",
              "  text-decoration: none;\n",
              "}\n",
              "\n",
              "#sk-container-id-8 a.estimator_doc_link.fitted:hover {\n",
              "  /* fitted */\n",
              "  background-color: var(--sklearn-color-fitted-level-3);\n",
              "}\n",
              "</style><div id=\"sk-container-id-8\" class=\"sk-top-container\"><div class=\"sk-text-repr-fallback\"><pre>RandomForestClassifier(class_weight={&#x27;Nulla o Minima&#x27;: 1.428346570864554,\n",
              "                                     &#x27;Presente&#x27;: 3.5660628712917144},\n",
              "                       max_depth=2, random_state=42)</pre><b>In a Jupyter environment, please rerun this cell to show the HTML representation or trust the notebook. <br />On GitHub, the HTML representation is unable to render, please try loading this page with nbviewer.org.</b></div><div class=\"sk-container\" hidden><div class=\"sk-item\"><div class=\"sk-estimator fitted sk-toggleable\"><input class=\"sk-toggleable__control sk-hidden--visually\" id=\"sk-estimator-id-8\" type=\"checkbox\" checked><label for=\"sk-estimator-id-8\" class=\"sk-toggleable__label fitted sk-toggleable__label-arrow\"><div><div>RandomForestClassifier</div></div><div><a class=\"sk-estimator-doc-link fitted\" rel=\"noreferrer\" target=\"_blank\" href=\"https://scikit-learn.org/1.6/modules/generated/sklearn.ensemble.RandomForestClassifier.html\">?<span>Documentation for RandomForestClassifier</span></a><span class=\"sk-estimator-doc-link fitted\">i<span>Fitted</span></span></div></label><div class=\"sk-toggleable__content fitted\"><pre>RandomForestClassifier(class_weight={&#x27;Nulla o Minima&#x27;: 1.428346570864554,\n",
              "                                     &#x27;Presente&#x27;: 3.5660628712917144},\n",
              "                       max_depth=2, random_state=42)</pre></div> </div></div></div></div>"
            ]
          },
          "metadata": {},
          "execution_count": 121
        }
      ]
    },
    {
      "cell_type": "markdown",
      "source": [
        "Questi risultati saranno quindi salvati ed usati per creare una matrice di confusione, che ci mostrerà dove i nostri modelli sono più accurati, e dove invece non lo sono\n",
        "\n",
        "Semplificandola, valori più vicini ad 1 significheranno predizioni più accurate, mentre valori vicini a 0 significheranno predizioni quasi mai giuste\n",
        "\n",
        "Creeremo inoltre una tabella che raccoglie, per ogni range di confidenza di una predizione (i.e. quanto il modello è \"sicuro\" della scelta), la sua affidabilità media: ci servirà in futuro\n"
      ],
      "metadata": {
        "id": "RigTrbVJX6fR"
      }
    },
    {
      "cell_type": "code",
      "source": [
        "def prob_class(prob):\n",
        "    if 0.5 <= prob < 0.6:\n",
        "        return \"0.5 - 0.6\"\n",
        "    elif 0.6 <= prob < 0.7:\n",
        "        return \"0.6 - 0.7\"\n",
        "    elif 0.7 <= prob < 0.8:\n",
        "        return \"0.7 - 0.8\"\n",
        "    elif 0.8 <= prob < 0.9:\n",
        "        return \"0.8 - 0.9\"\n",
        "    elif 0.9 <= prob <= 1:\n",
        "        return \"0.9 - 1\"\n",
        "    else:\n",
        "        return \"<0.5\"\n",
        "\n",
        "test_output_pred = model.predict(test_input)\n",
        "test_output_proba = model.predict_proba(test_input)\n",
        "massimi = np.max(test_output_proba, axis=1)\n",
        "\n",
        "\n",
        "output_df = pd.DataFrame({\"Guess\": test_output_pred, \"Probability\": massimi, \"TrueLabel\": test_output.values.ravel()})\n",
        "\n",
        "output_df[\"Right\"] = output_df[\"Guess\"] == output_df[\"TrueLabel\"]\n",
        "\n",
        "output_df[\"Conf_class\"] = output_df[\"Probability\"].apply(prob_class)\n",
        "\n",
        "recall_per_class = output_df.groupby(\"Conf_class\")[\"Right\"].mean().reset_index(name=\"Recall\")\n",
        "\n",
        "conf_matx = sklearn.metrics.confusion_matrix(test_output, test_output_pred, normalize=\"true\", labels=[\"Nulla o Minima\", \"Presente\"])\n",
        "\n",
        "nulla_accuracy = conf_matx[0][0]\n",
        "presente_accuracy = conf_matx[1][1]\n",
        "\n",
        "print(f\"### PERCENTUALI DI ACCURATEZZA STORICA PER OGNI MODELLO:\\n\")\n",
        "print(f\"\\n# Modello trainato (recalls):\\n\\n- Nulla o Minima 🌥️ {round(nulla_accuracy*100, 2)}%\\n- Presente 🌧️ {round(presente_accuracy*100, 2)}%\\n\\n\")\n",
        "accuracy = sklearn.metrics.accuracy_score(test_output, test_output_pred)\n",
        "print(f\"Accuratezza totale sui dati: {round(accuracy*100, 2)}%\")\n",
        "y_true_bin = (test_output == \"Presente\").astype(int).values.ravel()\n",
        "y_scores = model.predict_proba(test_input)[:, 1]\n",
        "roc_auc = sklearn.metrics.roc_auc_score(y_true_bin, y_scores)\n",
        "print(f\"ROC-AUC score: {round(roc_auc*100, 2)}%\")\n",
        "precision = sklearn.metrics.precision_score(test_output, test_output_pred, pos_label=\"Presente\")\n",
        "print(f\"Precisione totale sui dati: {round(precision*100, 2)}%\")\n",
        "f1 = sklearn.metrics.f1_score(test_output, test_output_pred, pos_label=\"Presente\")\n",
        "print(f\"F1 score sui dati: {round(f1*100, 2)}%\")"
      ],
      "metadata": {
        "colab": {
          "base_uri": "https://localhost:8080/"
        },
        "id": "HOF-M3vSX6Xb",
        "outputId": "0982cd89-ea3c-4a89-8b53-e6ce7a30e523"
      },
      "execution_count": 122,
      "outputs": [
        {
          "output_type": "stream",
          "name": "stdout",
          "text": [
            "### PERCENTUALI DI ACCURATEZZA STORICA PER OGNI MODELLO:\n",
            "\n",
            "\n",
            "# Modello trainato (recalls):\n",
            "\n",
            "- Nulla o Minima 🌥️ 71.28%\n",
            "- Presente 🌧️ 71.5%\n",
            "\n",
            "\n",
            "Accuratezza totale sui dati: 71.35%\n",
            "ROC-AUC score: 77.27%\n",
            "Precisione totale sui dati: 52.4%\n",
            "F1 score sui dati: 60.47%\n"
          ]
        }
      ]
    },
    {
      "cell_type": "markdown",
      "source": [
        "Senza andare troppo nel dettaglio, da queste metriche capiamo che tra tutte le giornate di un certo tipo, il nostro modello riesce a prevedere correttamente circa il 71.35% dei casi"
      ],
      "metadata": {
        "id": "Q9is4hahBy_3"
      }
    },
    {
      "cell_type": "markdown",
      "source": [
        "Andiamo quindi a creare una nuova funzione, con lo scopo di predirre singole giornate a partire dai dati del giorno precedente"
      ],
      "metadata": {
        "id": "YAYzqxwECdo3"
      }
    },
    {
      "cell_type": "code",
      "source": [
        "def predict_single_day(input):\n",
        "  df_input = pd.DataFrame(input, columns = input.keys(), index=[1])\n",
        "\n",
        "  numerical_cols = df_input.select_dtypes(include=[np.number]).columns.tolist()\n",
        "  categorical_cols = df_input.select_dtypes([\"object\"]).columns.tolist()\n",
        "\n",
        "\n",
        "  df_input[numerical_cols] = imputer.transform(df_input[numerical_cols])\n",
        "\n",
        "  encoded = encoder.transform(df_input[categorical_cols]).toarray()\n",
        "  encoded_df = pd.DataFrame(encoded, columns=encoder.get_feature_names_out(categorical_cols), index=df_input.index)\n",
        "  df_input = pd.concat([df_input.drop(columns=categorical_cols), encoded_df], axis=1)\n",
        "\n",
        "\n",
        "  pred = model.predict(df_input)[0]\n",
        "  conf = model.predict_proba(df_input)[0]\n",
        "  max_prob = max(conf)\n",
        "\n",
        "  pred_descriptive = \"Presente 🌧️ (> 2mm totali) \" if pred == \"Presente\" else \"Nulla o Minima 🌥️ (< 2mm totali)\"\n",
        "  acc = presente_accuracy if pred == \"Presente\" else nulla_accuracy\n",
        "\n",
        "  conf_class = prob_class(max_prob)\n",
        "  acc_class = recall_per_class.loc[recall_per_class[\"Conf_class\"] == conf_class, \"Recall\"].values[0]\n",
        "\n",
        "  print(f\"Domani la pioggia sarà {pred_descriptive.lower()}\")\n",
        "  print(f\"Confidenza oggi: {round(100*acc_class, 1)}%\")"
      ],
      "metadata": {
        "id": "QWWOEQwlcb2Q"
      },
      "execution_count": 123,
      "outputs": []
    },
    {
      "cell_type": "markdown",
      "source": [
        "Ora possiamo immettere i dati della giornata in questione nel codice sotto, e vedere la previsione per la giornata sucessiva"
      ],
      "metadata": {
        "id": "dF4T5yQ0dkjB"
      }
    },
    {
      "cell_type": "code",
      "source": [
        "input_to_predict = {\n",
        "    \"Anno\": 2025, # Anno della predizione\n",
        "    \"Mese\": \"Ago\", # Mese della predizione (abbreviato, 3 lettere, prima lettera maiuscola)\n",
        "    \"PosizioneMese\": \"Meta\", # In che fase del mese si trova (\"Inizio\", \"Meta\", \"Fine\")\n",
        "    \"DirVentoMax\": \"S\", # Direzione cardinale del vento massima velocità (Anche combinazioni es. \"SO\")\n",
        "    \"TempMin [°C]\": 18.2, # Temperatura minima registrata (°C)\n",
        "    \"TempMed [°C]\": 29.1, # Temperatura media registrata (°C)\n",
        "    \"TempMax [°C]\": 33.6, # Temperatura massima registrata (°C)\n",
        "    \"UmiditaMed [%]\": 80, # Umidità media registrata (%)\n",
        "    \"UmiditaMax [%]\": 91, # Umidità massima registrata (%)\n",
        "    \"VentoMed [km/h]\": 6, # Velocità media del vento (km/h)\n",
        "    \"VentoMax [km/h]\": 23, # Velocità massima del vento (km/h)\n",
        "    \"Radiazione [KJ/m2]\": 11270, # Irradiamento solare totale [KJ/m2]\n",
        "    \"Pressione [Pa]\": 101635, # Pressiona atmosferica media (Pascal)\n",
        "    \"mmPioggia\": 0 # Millimetri di pioggia totali (anche scritti come Litri per m2)\n",
        "}\n",
        "\n",
        "predict_single_day(input_to_predict)"
      ],
      "metadata": {
        "id": "7_sHxbqDdyld",
        "colab": {
          "base_uri": "https://localhost:8080/"
        },
        "outputId": "26f6bf76-b373-4a40-9e57-394e2f04cd2e"
      },
      "execution_count": 125,
      "outputs": [
        {
          "output_type": "stream",
          "name": "stdout",
          "text": [
            "Domani la pioggia sarà nulla o minima 🌥️ (< 2mm totali)\n",
            "Confidenza oggi: 66.7%\n"
          ]
        }
      ]
    },
    {
      "cell_type": "markdown",
      "source": [
        "Se si vuole, si possono anche modificare i dati a proprio piacimento, modificando i valori tra i due punti (:) e la virgola (,) seguendo le unità di misura quando questi sono di tipo numerico.\n",
        "\n",
        "Quando invece sono di tipo testuale (stringa), ricordarsi di racchiudere sempre il testo tra le virgolette (\" \")"
      ],
      "metadata": {
        "id": "MjpIrKbJd-hR"
      }
    },
    {
      "cell_type": "markdown",
      "source": [
        "OPZIONALE: reso il modello (.pkl) e il dataset (.csv) accessibile e scaricabile"
      ],
      "metadata": {
        "id": "HLPIBWUISkMH"
      }
    },
    {
      "cell_type": "code",
      "source": [
        "modello_totale = {\n",
        "    \"modello_predittivo\": model,\n",
        "    \"modello_encoder\": encoder,\n",
        "    \"modello_imputer\": imputer\n",
        "}\n",
        "\n",
        "joblib.dump(modello_totale, \"modello_totale.pkl\")\n",
        "dataset = df.to_csv(\"dataset.csv\")"
      ],
      "metadata": {
        "id": "yDQ7pE2BSIY0"
      },
      "execution_count": 126,
      "outputs": []
    },
    {
      "cell_type": "markdown",
      "source": [
        "# Conclusione\n",
        "\n",
        "Questo modello non è completo, e non sarà nemmeno il più accurato o efficiente, tuttavia offre un buon punto di partenza per modellazioni meteorologiche su dataset pubblici.\n",
        "\n",
        "L'accuratezza media è di solo 1% maggiore rispetto ad un banale \"sempre no\", tuttavia non è per questo che è stato ideato: ho privilegiato l'equilibrio tra giornate pioggia e giornate non.\n",
        "Se avessi voluto solamente un'accuratezza massima, avrei sacrificato molto la categoria della pioggia, essendo meno frequente.\n",
        "\n",
        "Spero possa servire utile, e spero abbia servito come prova del fatto che tramite programmi del genere è possibile fare cose molto più complesse di quelle che ci si può aspettare\n",
        "\n",
        "-\n",
        "\n",
        "*Scolz F.*"
      ],
      "metadata": {
        "id": "5RJSWnoHfDeY"
      }
    }
  ]
}