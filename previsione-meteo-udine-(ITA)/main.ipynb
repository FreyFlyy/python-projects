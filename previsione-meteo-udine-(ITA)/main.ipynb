{
  "nbformat": 4,
  "nbformat_minor": 0,
  "metadata": {
    "colab": {
      "provenance": []
    },
    "kernelspec": {
      "name": "python3",
      "display_name": "Python 3"
    },
    "language_info": {
      "name": "python"
    }
  },
  "cells": [
    {
      "cell_type": "markdown",
      "source": [
        "# Predittore di precipitazione nella città di Udine (S. Osvaldo)\n",
        "\n",
        "Questo programma aiuta a predirre la situazione di pioggia del giorno sucessivo partendo da alcuni dati del giorno attuale.\n",
        "\n",
        "Nello specifico, utilizza:\n",
        "* mm di Pioggia oggi\n",
        "* Temperature (massima, minima, media)\n",
        "* Umidità (massima, media)\n",
        "* Anno, Mese e Giorno (come posizione nel mese)\n",
        "* Vento (massimo, medio, direzione)\n",
        "* Irradiamento solare (in J/m2)\n",
        "* Pressione atmosferica media (in Pascal)\n",
        "\n",
        "L'output invece sarà una stringa, che varierà tra:\n",
        "* \"Nulla o Pochissima\" (0 - 0.4 mm / giorno)\n",
        "* \"Leggera\" (0.4 - 2.9 mm / giorno)\n",
        "* \"Media\" (3 - 7.9 mm / giorno)\n",
        "* \"Forte\" (> 8 mm / giorno)\n",
        "\n",
        "Per chi è più esperto, è possibile anche modificare il codice provando altri modelli con altri parametri per ottenere risultati migliori"
      ],
      "metadata": {
        "id": "uSeDcqt1SNy9"
      }
    },
    {
      "cell_type": "markdown",
      "source": [
        "Per iniziare, importeremo alcuni moduli necessari per il funzionamento dei modelli. Sucessivamente importeremo il file contente i dati relativi al passato meteorologico, che per comodità è già stato pulito"
      ],
      "metadata": {
        "id": "WtE6kYmUUDfH"
      }
    },
    {
      "cell_type": "code",
      "source": [
        "import sklearn\n",
        "import seaborn as sns\n",
        "import matplotlib.pyplot as plt\n",
        "import pandas as pd\n",
        "from imblearn.over_sampling import SMOTE\n",
        "\n",
        "df = pd.read_parquet(\"/content/file.parquet\")"
      ],
      "metadata": {
        "id": "yteRCzfLDTrM"
      },
      "execution_count": 64,
      "outputs": []
    },
    {
      "cell_type": "markdown",
      "source": [
        "Ora andremo a definire le varie colonne del dataframe, distinguendole tra input e output, e tra numeriche e categoriche.\n",
        "Andremo anche a creare una lista di colonne da ignorare durante la fase di training, che però in questo caso è vuota dato che useremo tutte le variabili"
      ],
      "metadata": {
        "id": "Pul8Oqr5Ul0R"
      }
    },
    {
      "cell_type": "code",
      "source": [
        "cols_to_ignore = []\n",
        "cols_to_ignore.append(\"PioggiaDomani\")\n",
        "\n",
        "input_cols = df.columns.drop(\"PioggiaDomani\")\n",
        "output_cols = [\"PioggiaDomani\"]\n",
        "\n",
        "numerical_cols = [\"Anno\", \"TempMin [°C]\", \"TempMed [°C]\", \"TempMax [°C]\", \"UmiditaMed [%]\", \"UmiditaMax [%]\", \"VentoMed [km/h]\", \"VentoMax [km/h]\", \"Radiazione [J/m2]\", \"Pressione [Pa]\", \"mmPioggia\"]\n",
        "categorical_cols = [\"Mese\", \"PosizioneMese\", \"DirVentoMax\"]"
      ],
      "metadata": {
        "id": "Ym0mx1WWVAVr"
      },
      "execution_count": 65,
      "outputs": []
    },
    {
      "cell_type": "markdown",
      "source": [
        "Dopo aver definito le colonne, procederemo a trasformare tutti i dati:\n",
        "* Andremo a riempire i valori vuoti di ogni colonna con SimpleImputer di scikit-learn\n",
        "* Poi standardizzeremo i dati in modo da migliorare l'interpretabilità del modello e possibilmente anche la sua accuratezza generale\n",
        "* Infine, trasformeremo le variabili categoriche (non numeriche) in un formato leggibile dai modelli tramite OneHotEncoding\n"
      ],
      "metadata": {
        "id": "W7EemwueVDIc"
      }
    },
    {
      "cell_type": "code",
      "source": [
        "imputer = sklearn.impute.SimpleImputer(strategy=\"mean\")\n",
        "imputer.fit(df[numerical_cols])\n",
        "df[numerical_cols] = imputer.transform(df[numerical_cols])\n",
        "\n",
        "scaler = sklearn.preprocessing.StandardScaler()\n",
        "scaler.fit(df[numerical_cols])\n",
        "df[numerical_cols] = scaler.transform(df[numerical_cols])\n",
        "\n",
        "encoder = sklearn.preprocessing.OneHotEncoder()\n",
        "encoder.fit(df[categorical_cols])\n",
        "encoded = encoder.transform(df[categorical_cols]).toarray()\n",
        "encoded_df = pd.DataFrame(encoded, columns=encoder.get_feature_names_out(categorical_cols), index=df.index)\n",
        "df = pd.concat([df.drop(columns=categorical_cols), encoded_df], axis=1)"
      ],
      "metadata": {
        "id": "iq3As2BlVDjf"
      },
      "execution_count": 66,
      "outputs": []
    },
    {
      "cell_type": "markdown",
      "source": [
        "Una volta preparati i dati, li possiamo dividere in due set:\n",
        "* Uno di training (da usare per addestrare il modello)\n",
        "* E uno di test (per testare il modello e quanto affidabile è)\n",
        "\n",
        "Inoltre, creeremo anche un secondo set di dati di training modificati tramite oversampling con SMOTE, per usarli su due modelli diversi, che poi approfondiremo"
      ],
      "metadata": {
        "id": "JLUg-04DWGdh"
      }
    },
    {
      "cell_type": "code",
      "source": [
        "input_cols = df.columns.drop(\"PioggiaDomani\")\n",
        "output_cols = [\"PioggiaDomani\"]\n",
        "\n",
        "df_train = df[df[\"Anno\"] < 1] # <= 2023\n",
        "df_test = df[df[\"Anno\"] > 1] # >= 2024\n",
        "\n",
        "train_input = df_train[input_cols]\n",
        "train_output = df_train[output_cols]\n",
        "test_input = df_test[input_cols]\n",
        "test_output = df_test[output_cols]\n",
        "\n",
        "sm = SMOTE(random_state=42)\n",
        "train_input_resampled, train_output_resampled = sm.fit_resample(train_input, train_output)"
      ],
      "metadata": {
        "id": "mJXaAMR3WG4t"
      },
      "execution_count": 67,
      "outputs": []
    },
    {
      "cell_type": "markdown",
      "source": [
        "Ora passiamo alla creazione dei due modelli:\n",
        "* Saranno tutti e due basati sulla funzione logistica di LogisticRegression di sklearn\n",
        "* Uno verrà addestrato con dei dati con proporzioni e probabilità reali\n",
        "* L'altro sarà addestrato su dati misti ad altri creati sinteticamente per evitare che le minoranze vengano sottovalutate"
      ],
      "metadata": {
        "id": "MrTwqqJpW5fr"
      }
    },
    {
      "cell_type": "code",
      "source": [
        "model = sklearn.linear_model.LogisticRegression(penalty=\"l2\", class_weight=\"balanced\", solver=\"liblinear\", max_iter=1000000, tol=1e-100)\n",
        "model_resampled = sklearn.linear_model.LogisticRegression(penalty=\"l2\", class_weight=\"balanced\", solver=\"liblinear\", max_iter=1000000, tol=1e-100)\n",
        "\n",
        "model.fit(train_input, train_output.values.ravel())\n",
        "model_resampled.fit(train_input_resampled, train_output_resampled.values.ravel())"
      ],
      "metadata": {
        "colab": {
          "base_uri": "https://localhost:8080/",
          "height": 97
        },
        "id": "sbLAxEPqW5rf",
        "outputId": "6234b08b-ee21-4754-8fcd-7b7d8c0d0cc7"
      },
      "execution_count": 68,
      "outputs": [
        {
          "output_type": "execute_result",
          "data": {
            "text/plain": [
              "LogisticRegression(class_weight='balanced', max_iter=1000000,\n",
              "                   solver='liblinear', tol=1e-100)"
            ],
            "text/html": [
              "<style>#sk-container-id-4 {\n",
              "  /* Definition of color scheme common for light and dark mode */\n",
              "  --sklearn-color-text: #000;\n",
              "  --sklearn-color-text-muted: #666;\n",
              "  --sklearn-color-line: gray;\n",
              "  /* Definition of color scheme for unfitted estimators */\n",
              "  --sklearn-color-unfitted-level-0: #fff5e6;\n",
              "  --sklearn-color-unfitted-level-1: #f6e4d2;\n",
              "  --sklearn-color-unfitted-level-2: #ffe0b3;\n",
              "  --sklearn-color-unfitted-level-3: chocolate;\n",
              "  /* Definition of color scheme for fitted estimators */\n",
              "  --sklearn-color-fitted-level-0: #f0f8ff;\n",
              "  --sklearn-color-fitted-level-1: #d4ebff;\n",
              "  --sklearn-color-fitted-level-2: #b3dbfd;\n",
              "  --sklearn-color-fitted-level-3: cornflowerblue;\n",
              "\n",
              "  /* Specific color for light theme */\n",
              "  --sklearn-color-text-on-default-background: var(--sg-text-color, var(--theme-code-foreground, var(--jp-content-font-color1, black)));\n",
              "  --sklearn-color-background: var(--sg-background-color, var(--theme-background, var(--jp-layout-color0, white)));\n",
              "  --sklearn-color-border-box: var(--sg-text-color, var(--theme-code-foreground, var(--jp-content-font-color1, black)));\n",
              "  --sklearn-color-icon: #696969;\n",
              "\n",
              "  @media (prefers-color-scheme: dark) {\n",
              "    /* Redefinition of color scheme for dark theme */\n",
              "    --sklearn-color-text-on-default-background: var(--sg-text-color, var(--theme-code-foreground, var(--jp-content-font-color1, white)));\n",
              "    --sklearn-color-background: var(--sg-background-color, var(--theme-background, var(--jp-layout-color0, #111)));\n",
              "    --sklearn-color-border-box: var(--sg-text-color, var(--theme-code-foreground, var(--jp-content-font-color1, white)));\n",
              "    --sklearn-color-icon: #878787;\n",
              "  }\n",
              "}\n",
              "\n",
              "#sk-container-id-4 {\n",
              "  color: var(--sklearn-color-text);\n",
              "}\n",
              "\n",
              "#sk-container-id-4 pre {\n",
              "  padding: 0;\n",
              "}\n",
              "\n",
              "#sk-container-id-4 input.sk-hidden--visually {\n",
              "  border: 0;\n",
              "  clip: rect(1px 1px 1px 1px);\n",
              "  clip: rect(1px, 1px, 1px, 1px);\n",
              "  height: 1px;\n",
              "  margin: -1px;\n",
              "  overflow: hidden;\n",
              "  padding: 0;\n",
              "  position: absolute;\n",
              "  width: 1px;\n",
              "}\n",
              "\n",
              "#sk-container-id-4 div.sk-dashed-wrapped {\n",
              "  border: 1px dashed var(--sklearn-color-line);\n",
              "  margin: 0 0.4em 0.5em 0.4em;\n",
              "  box-sizing: border-box;\n",
              "  padding-bottom: 0.4em;\n",
              "  background-color: var(--sklearn-color-background);\n",
              "}\n",
              "\n",
              "#sk-container-id-4 div.sk-container {\n",
              "  /* jupyter's `normalize.less` sets `[hidden] { display: none; }`\n",
              "     but bootstrap.min.css set `[hidden] { display: none !important; }`\n",
              "     so we also need the `!important` here to be able to override the\n",
              "     default hidden behavior on the sphinx rendered scikit-learn.org.\n",
              "     See: https://github.com/scikit-learn/scikit-learn/issues/21755 */\n",
              "  display: inline-block !important;\n",
              "  position: relative;\n",
              "}\n",
              "\n",
              "#sk-container-id-4 div.sk-text-repr-fallback {\n",
              "  display: none;\n",
              "}\n",
              "\n",
              "div.sk-parallel-item,\n",
              "div.sk-serial,\n",
              "div.sk-item {\n",
              "  /* draw centered vertical line to link estimators */\n",
              "  background-image: linear-gradient(var(--sklearn-color-text-on-default-background), var(--sklearn-color-text-on-default-background));\n",
              "  background-size: 2px 100%;\n",
              "  background-repeat: no-repeat;\n",
              "  background-position: center center;\n",
              "}\n",
              "\n",
              "/* Parallel-specific style estimator block */\n",
              "\n",
              "#sk-container-id-4 div.sk-parallel-item::after {\n",
              "  content: \"\";\n",
              "  width: 100%;\n",
              "  border-bottom: 2px solid var(--sklearn-color-text-on-default-background);\n",
              "  flex-grow: 1;\n",
              "}\n",
              "\n",
              "#sk-container-id-4 div.sk-parallel {\n",
              "  display: flex;\n",
              "  align-items: stretch;\n",
              "  justify-content: center;\n",
              "  background-color: var(--sklearn-color-background);\n",
              "  position: relative;\n",
              "}\n",
              "\n",
              "#sk-container-id-4 div.sk-parallel-item {\n",
              "  display: flex;\n",
              "  flex-direction: column;\n",
              "}\n",
              "\n",
              "#sk-container-id-4 div.sk-parallel-item:first-child::after {\n",
              "  align-self: flex-end;\n",
              "  width: 50%;\n",
              "}\n",
              "\n",
              "#sk-container-id-4 div.sk-parallel-item:last-child::after {\n",
              "  align-self: flex-start;\n",
              "  width: 50%;\n",
              "}\n",
              "\n",
              "#sk-container-id-4 div.sk-parallel-item:only-child::after {\n",
              "  width: 0;\n",
              "}\n",
              "\n",
              "/* Serial-specific style estimator block */\n",
              "\n",
              "#sk-container-id-4 div.sk-serial {\n",
              "  display: flex;\n",
              "  flex-direction: column;\n",
              "  align-items: center;\n",
              "  background-color: var(--sklearn-color-background);\n",
              "  padding-right: 1em;\n",
              "  padding-left: 1em;\n",
              "}\n",
              "\n",
              "\n",
              "/* Toggleable style: style used for estimator/Pipeline/ColumnTransformer box that is\n",
              "clickable and can be expanded/collapsed.\n",
              "- Pipeline and ColumnTransformer use this feature and define the default style\n",
              "- Estimators will overwrite some part of the style using the `sk-estimator` class\n",
              "*/\n",
              "\n",
              "/* Pipeline and ColumnTransformer style (default) */\n",
              "\n",
              "#sk-container-id-4 div.sk-toggleable {\n",
              "  /* Default theme specific background. It is overwritten whether we have a\n",
              "  specific estimator or a Pipeline/ColumnTransformer */\n",
              "  background-color: var(--sklearn-color-background);\n",
              "}\n",
              "\n",
              "/* Toggleable label */\n",
              "#sk-container-id-4 label.sk-toggleable__label {\n",
              "  cursor: pointer;\n",
              "  display: flex;\n",
              "  width: 100%;\n",
              "  margin-bottom: 0;\n",
              "  padding: 0.5em;\n",
              "  box-sizing: border-box;\n",
              "  text-align: center;\n",
              "  align-items: start;\n",
              "  justify-content: space-between;\n",
              "  gap: 0.5em;\n",
              "}\n",
              "\n",
              "#sk-container-id-4 label.sk-toggleable__label .caption {\n",
              "  font-size: 0.6rem;\n",
              "  font-weight: lighter;\n",
              "  color: var(--sklearn-color-text-muted);\n",
              "}\n",
              "\n",
              "#sk-container-id-4 label.sk-toggleable__label-arrow:before {\n",
              "  /* Arrow on the left of the label */\n",
              "  content: \"▸\";\n",
              "  float: left;\n",
              "  margin-right: 0.25em;\n",
              "  color: var(--sklearn-color-icon);\n",
              "}\n",
              "\n",
              "#sk-container-id-4 label.sk-toggleable__label-arrow:hover:before {\n",
              "  color: var(--sklearn-color-text);\n",
              "}\n",
              "\n",
              "/* Toggleable content - dropdown */\n",
              "\n",
              "#sk-container-id-4 div.sk-toggleable__content {\n",
              "  max-height: 0;\n",
              "  max-width: 0;\n",
              "  overflow: hidden;\n",
              "  text-align: left;\n",
              "  /* unfitted */\n",
              "  background-color: var(--sklearn-color-unfitted-level-0);\n",
              "}\n",
              "\n",
              "#sk-container-id-4 div.sk-toggleable__content.fitted {\n",
              "  /* fitted */\n",
              "  background-color: var(--sklearn-color-fitted-level-0);\n",
              "}\n",
              "\n",
              "#sk-container-id-4 div.sk-toggleable__content pre {\n",
              "  margin: 0.2em;\n",
              "  border-radius: 0.25em;\n",
              "  color: var(--sklearn-color-text);\n",
              "  /* unfitted */\n",
              "  background-color: var(--sklearn-color-unfitted-level-0);\n",
              "}\n",
              "\n",
              "#sk-container-id-4 div.sk-toggleable__content.fitted pre {\n",
              "  /* unfitted */\n",
              "  background-color: var(--sklearn-color-fitted-level-0);\n",
              "}\n",
              "\n",
              "#sk-container-id-4 input.sk-toggleable__control:checked~div.sk-toggleable__content {\n",
              "  /* Expand drop-down */\n",
              "  max-height: 200px;\n",
              "  max-width: 100%;\n",
              "  overflow: auto;\n",
              "}\n",
              "\n",
              "#sk-container-id-4 input.sk-toggleable__control:checked~label.sk-toggleable__label-arrow:before {\n",
              "  content: \"▾\";\n",
              "}\n",
              "\n",
              "/* Pipeline/ColumnTransformer-specific style */\n",
              "\n",
              "#sk-container-id-4 div.sk-label input.sk-toggleable__control:checked~label.sk-toggleable__label {\n",
              "  color: var(--sklearn-color-text);\n",
              "  background-color: var(--sklearn-color-unfitted-level-2);\n",
              "}\n",
              "\n",
              "#sk-container-id-4 div.sk-label.fitted input.sk-toggleable__control:checked~label.sk-toggleable__label {\n",
              "  background-color: var(--sklearn-color-fitted-level-2);\n",
              "}\n",
              "\n",
              "/* Estimator-specific style */\n",
              "\n",
              "/* Colorize estimator box */\n",
              "#sk-container-id-4 div.sk-estimator input.sk-toggleable__control:checked~label.sk-toggleable__label {\n",
              "  /* unfitted */\n",
              "  background-color: var(--sklearn-color-unfitted-level-2);\n",
              "}\n",
              "\n",
              "#sk-container-id-4 div.sk-estimator.fitted input.sk-toggleable__control:checked~label.sk-toggleable__label {\n",
              "  /* fitted */\n",
              "  background-color: var(--sklearn-color-fitted-level-2);\n",
              "}\n",
              "\n",
              "#sk-container-id-4 div.sk-label label.sk-toggleable__label,\n",
              "#sk-container-id-4 div.sk-label label {\n",
              "  /* The background is the default theme color */\n",
              "  color: var(--sklearn-color-text-on-default-background);\n",
              "}\n",
              "\n",
              "/* On hover, darken the color of the background */\n",
              "#sk-container-id-4 div.sk-label:hover label.sk-toggleable__label {\n",
              "  color: var(--sklearn-color-text);\n",
              "  background-color: var(--sklearn-color-unfitted-level-2);\n",
              "}\n",
              "\n",
              "/* Label box, darken color on hover, fitted */\n",
              "#sk-container-id-4 div.sk-label.fitted:hover label.sk-toggleable__label.fitted {\n",
              "  color: var(--sklearn-color-text);\n",
              "  background-color: var(--sklearn-color-fitted-level-2);\n",
              "}\n",
              "\n",
              "/* Estimator label */\n",
              "\n",
              "#sk-container-id-4 div.sk-label label {\n",
              "  font-family: monospace;\n",
              "  font-weight: bold;\n",
              "  display: inline-block;\n",
              "  line-height: 1.2em;\n",
              "}\n",
              "\n",
              "#sk-container-id-4 div.sk-label-container {\n",
              "  text-align: center;\n",
              "}\n",
              "\n",
              "/* Estimator-specific */\n",
              "#sk-container-id-4 div.sk-estimator {\n",
              "  font-family: monospace;\n",
              "  border: 1px dotted var(--sklearn-color-border-box);\n",
              "  border-radius: 0.25em;\n",
              "  box-sizing: border-box;\n",
              "  margin-bottom: 0.5em;\n",
              "  /* unfitted */\n",
              "  background-color: var(--sklearn-color-unfitted-level-0);\n",
              "}\n",
              "\n",
              "#sk-container-id-4 div.sk-estimator.fitted {\n",
              "  /* fitted */\n",
              "  background-color: var(--sklearn-color-fitted-level-0);\n",
              "}\n",
              "\n",
              "/* on hover */\n",
              "#sk-container-id-4 div.sk-estimator:hover {\n",
              "  /* unfitted */\n",
              "  background-color: var(--sklearn-color-unfitted-level-2);\n",
              "}\n",
              "\n",
              "#sk-container-id-4 div.sk-estimator.fitted:hover {\n",
              "  /* fitted */\n",
              "  background-color: var(--sklearn-color-fitted-level-2);\n",
              "}\n",
              "\n",
              "/* Specification for estimator info (e.g. \"i\" and \"?\") */\n",
              "\n",
              "/* Common style for \"i\" and \"?\" */\n",
              "\n",
              ".sk-estimator-doc-link,\n",
              "a:link.sk-estimator-doc-link,\n",
              "a:visited.sk-estimator-doc-link {\n",
              "  float: right;\n",
              "  font-size: smaller;\n",
              "  line-height: 1em;\n",
              "  font-family: monospace;\n",
              "  background-color: var(--sklearn-color-background);\n",
              "  border-radius: 1em;\n",
              "  height: 1em;\n",
              "  width: 1em;\n",
              "  text-decoration: none !important;\n",
              "  margin-left: 0.5em;\n",
              "  text-align: center;\n",
              "  /* unfitted */\n",
              "  border: var(--sklearn-color-unfitted-level-1) 1pt solid;\n",
              "  color: var(--sklearn-color-unfitted-level-1);\n",
              "}\n",
              "\n",
              ".sk-estimator-doc-link.fitted,\n",
              "a:link.sk-estimator-doc-link.fitted,\n",
              "a:visited.sk-estimator-doc-link.fitted {\n",
              "  /* fitted */\n",
              "  border: var(--sklearn-color-fitted-level-1) 1pt solid;\n",
              "  color: var(--sklearn-color-fitted-level-1);\n",
              "}\n",
              "\n",
              "/* On hover */\n",
              "div.sk-estimator:hover .sk-estimator-doc-link:hover,\n",
              ".sk-estimator-doc-link:hover,\n",
              "div.sk-label-container:hover .sk-estimator-doc-link:hover,\n",
              ".sk-estimator-doc-link:hover {\n",
              "  /* unfitted */\n",
              "  background-color: var(--sklearn-color-unfitted-level-3);\n",
              "  color: var(--sklearn-color-background);\n",
              "  text-decoration: none;\n",
              "}\n",
              "\n",
              "div.sk-estimator.fitted:hover .sk-estimator-doc-link.fitted:hover,\n",
              ".sk-estimator-doc-link.fitted:hover,\n",
              "div.sk-label-container:hover .sk-estimator-doc-link.fitted:hover,\n",
              ".sk-estimator-doc-link.fitted:hover {\n",
              "  /* fitted */\n",
              "  background-color: var(--sklearn-color-fitted-level-3);\n",
              "  color: var(--sklearn-color-background);\n",
              "  text-decoration: none;\n",
              "}\n",
              "\n",
              "/* Span, style for the box shown on hovering the info icon */\n",
              ".sk-estimator-doc-link span {\n",
              "  display: none;\n",
              "  z-index: 9999;\n",
              "  position: relative;\n",
              "  font-weight: normal;\n",
              "  right: .2ex;\n",
              "  padding: .5ex;\n",
              "  margin: .5ex;\n",
              "  width: min-content;\n",
              "  min-width: 20ex;\n",
              "  max-width: 50ex;\n",
              "  color: var(--sklearn-color-text);\n",
              "  box-shadow: 2pt 2pt 4pt #999;\n",
              "  /* unfitted */\n",
              "  background: var(--sklearn-color-unfitted-level-0);\n",
              "  border: .5pt solid var(--sklearn-color-unfitted-level-3);\n",
              "}\n",
              "\n",
              ".sk-estimator-doc-link.fitted span {\n",
              "  /* fitted */\n",
              "  background: var(--sklearn-color-fitted-level-0);\n",
              "  border: var(--sklearn-color-fitted-level-3);\n",
              "}\n",
              "\n",
              ".sk-estimator-doc-link:hover span {\n",
              "  display: block;\n",
              "}\n",
              "\n",
              "/* \"?\"-specific style due to the `<a>` HTML tag */\n",
              "\n",
              "#sk-container-id-4 a.estimator_doc_link {\n",
              "  float: right;\n",
              "  font-size: 1rem;\n",
              "  line-height: 1em;\n",
              "  font-family: monospace;\n",
              "  background-color: var(--sklearn-color-background);\n",
              "  border-radius: 1rem;\n",
              "  height: 1rem;\n",
              "  width: 1rem;\n",
              "  text-decoration: none;\n",
              "  /* unfitted */\n",
              "  color: var(--sklearn-color-unfitted-level-1);\n",
              "  border: var(--sklearn-color-unfitted-level-1) 1pt solid;\n",
              "}\n",
              "\n",
              "#sk-container-id-4 a.estimator_doc_link.fitted {\n",
              "  /* fitted */\n",
              "  border: var(--sklearn-color-fitted-level-1) 1pt solid;\n",
              "  color: var(--sklearn-color-fitted-level-1);\n",
              "}\n",
              "\n",
              "/* On hover */\n",
              "#sk-container-id-4 a.estimator_doc_link:hover {\n",
              "  /* unfitted */\n",
              "  background-color: var(--sklearn-color-unfitted-level-3);\n",
              "  color: var(--sklearn-color-background);\n",
              "  text-decoration: none;\n",
              "}\n",
              "\n",
              "#sk-container-id-4 a.estimator_doc_link.fitted:hover {\n",
              "  /* fitted */\n",
              "  background-color: var(--sklearn-color-fitted-level-3);\n",
              "}\n",
              "</style><div id=\"sk-container-id-4\" class=\"sk-top-container\"><div class=\"sk-text-repr-fallback\"><pre>LogisticRegression(class_weight=&#x27;balanced&#x27;, max_iter=1000000,\n",
              "                   solver=&#x27;liblinear&#x27;, tol=1e-100)</pre><b>In a Jupyter environment, please rerun this cell to show the HTML representation or trust the notebook. <br />On GitHub, the HTML representation is unable to render, please try loading this page with nbviewer.org.</b></div><div class=\"sk-container\" hidden><div class=\"sk-item\"><div class=\"sk-estimator fitted sk-toggleable\"><input class=\"sk-toggleable__control sk-hidden--visually\" id=\"sk-estimator-id-4\" type=\"checkbox\" checked><label for=\"sk-estimator-id-4\" class=\"sk-toggleable__label fitted sk-toggleable__label-arrow\"><div><div>LogisticRegression</div></div><div><a class=\"sk-estimator-doc-link fitted\" rel=\"noreferrer\" target=\"_blank\" href=\"https://scikit-learn.org/1.6/modules/generated/sklearn.linear_model.LogisticRegression.html\">?<span>Documentation for LogisticRegression</span></a><span class=\"sk-estimator-doc-link fitted\">i<span>Fitted</span></span></div></label><div class=\"sk-toggleable__content fitted\"><pre>LogisticRegression(class_weight=&#x27;balanced&#x27;, max_iter=1000000,\n",
              "                   solver=&#x27;liblinear&#x27;, tol=1e-100)</pre></div> </div></div></div></div>"
            ]
          },
          "metadata": {},
          "execution_count": 68
        }
      ]
    },
    {
      "cell_type": "markdown",
      "source": [
        "Poi, li faremo predirre le precipitazioni del dataframe di test precedentemente creato"
      ],
      "metadata": {
        "id": "XuuhimXhXeDV"
      }
    },
    {
      "cell_type": "code",
      "source": [
        "test_output_pred = model.predict(test_input)\n",
        "test_output_pred_resampled = model_resampled.predict(test_input)"
      ],
      "metadata": {
        "id": "Ky7wT741Xdpk"
      },
      "execution_count": 69,
      "outputs": []
    },
    {
      "cell_type": "markdown",
      "source": [
        "Questi risultati saranno quindi salvati ed usati per creare una matrice di confusione, che ci mostrerà dove i nostri modelli sono più accurati, e dove invece non lo sono\n",
        "\n",
        "Valori più vicini ad 1 significheranno predizioni più accurate, mentre valori vicini a 0 significheranno predizioni quasi mai giuste\n",
        "\n",
        "\n",
        "Per rendere il modello più flessibile, è stato aggiunto un parametro \"weight_close_pred\" che va da 0 ad 1, ed indica il margine di errore accettato nelle predizioni\n",
        "\n",
        "Per esempio, un margine di 0.3 o 30%, significa che per il 30% delle volte, una predizione \"vicina\" è comunque considerata corretta\n",
        "(per esempio, predirre \"Leggera\" quando la realtà è \"Nulla\" o \"Media\", risulterà nel 30% delle volte nell'essere presa come predizione valida)\n",
        "\n"
      ],
      "metadata": {
        "id": "RigTrbVJX6fR"
      }
    },
    {
      "cell_type": "code",
      "source": [
        "conf_matx = sklearn.metrics.confusion_matrix(test_output, test_output_pred, normalize=\"true\", labels=[\"Nulla o Pochissima\", \"Leggera\", \"Media\", \"Forte\"])\n",
        "conf_matx_resampled = sklearn.metrics.confusion_matrix(test_output, test_output_pred_resampled, normalize=\"true\", labels=[\"Nulla o Pochissima\", \"Leggera\", \"Media\", \"Forte\"])\n",
        "\n",
        "weight_close_pred = 0.3\n",
        "\n",
        "nulla_accuracy = conf_matx[0][0] + conf_matx[0][1]*weight_close_pred\n",
        "leggera_accuracy = conf_matx[1][1] + conf_matx[1][0]*weight_close_pred + conf_matx[1][2]*weight_close_pred\n",
        "media_accuracy = conf_matx[2][2] + conf_matx[2][1]*weight_close_pred + conf_matx[2][3]*weight_close_pred\n",
        "forte_accuracy = conf_matx[3][3] + conf_matx[3][2]*weight_close_pred\n",
        "\n",
        "nulla_accuracy_resampled = conf_matx_resampled[0][0] + conf_matx_resampled[0][1]*weight_close_pred\n",
        "leggera_accuracy_resampled = conf_matx_resampled[1][1] + conf_matx_resampled[1][0]*weight_close_pred + conf_matx_resampled[1][2]*weight_close_pred\n",
        "media_accuracy_resampled = conf_matx_resampled[2][2] + conf_matx_resampled[2][1]*weight_close_pred + conf_matx_resampled[2][3]*weight_close_pred\n",
        "forte_accuracy_resampled = conf_matx_resampled[3][3] + conf_matx_resampled[3][2]*weight_close_pred\n",
        "\n",
        "print(f'Margine di accettazione = {weight_close_pred*100}% (si contano anche il {weight_close_pred*100}% delle predizioni \"vicine\" come comunque corrette)\\n')\n",
        "print(f\"### PERCENTUALI DI ACCURATEZZA STORICA PER OGNI MODELLO:\\n\")\n",
        "print(f\"# Modello trainato su dati standard:\\n\\n- Nulla o Pochissima ☀️ {round(nulla_accuracy*100, 2)}%\\n- Leggera 🌦️ {round(leggera_accuracy*100, 2)}%\\n- Media 🌧️ {round(media_accuracy*100, 2)}%\\n- Forte ⛈️ {round(forte_accuracy*100, 2)}%\")\n",
        "print(f\"\\n# Modello trainato su dati resampled (SMOTE):\\n\\n- Nulla o Pochissima ☀️ {round(nulla_accuracy_resampled*100, 2)}%\\n- Leggera 🌦️ {round(leggera_accuracy_resampled*100, 2)}%\\n- Media 🌧️ {round(media_accuracy_resampled*100, 2)}%\\n- Forte ⛈️ {round(forte_accuracy_resampled*100, 2)}%\\n\\n\")"
      ],
      "metadata": {
        "colab": {
          "base_uri": "https://localhost:8080/"
        },
        "id": "HOF-M3vSX6Xb",
        "outputId": "7783ea7e-d73e-43e8-e898-2727c47ad95f"
      },
      "execution_count": 70,
      "outputs": [
        {
          "output_type": "stream",
          "name": "stdout",
          "text": [
            "Margine di accettazione = 30.0% (si contano anche il 30.0% delle predizioni \"vicine\" come comunque corrette)\n",
            "\n",
            "### PERCENTUALI DI ACCURATEZZA STORICA PER OGNI MODELLO:\n",
            "\n",
            "# Modello trainato su dati standard:\n",
            "\n",
            "- Nulla o Pochissima ☀️ 87.36%\n",
            "- Leggera 🌦️ 30.62%\n",
            "- Media 🌧️ 16.41%\n",
            "- Forte ⛈️ 39.33%\n",
            "\n",
            "# Modello trainato su dati resampled (SMOTE):\n",
            "\n",
            "- Nulla o Pochissima ☀️ 59.84%\n",
            "- Leggera 🌦️ 57.38%\n",
            "- Media 🌧️ 47.44%\n",
            "- Forte ⛈️ 29.33%\n",
            "\n",
            "\n"
          ]
        }
      ]
    },
    {
      "cell_type": "markdown",
      "source": [
        "Possiamo notare come il modello base possiede una accuratezza storica (o meglio, recall, per usare un termine più corretto e tecnico) relativamente alta per i casi più estremi, con pioggia nulla e pioggia forte\n",
        "\n",
        "Al contrario, il secondo modello con SMOTE ha performato leggermente meglio nei casi di mezzo (Leggera e Media), a discapito dei casi estremi\n",
        "\n",
        "\n",
        "Possiamo quindi decidere di performare quello che in gergo viene definito un \"ensemble\". Uniamo quindi i due modelli, prendendo i vantaggi di entrambi."
      ],
      "metadata": {
        "id": "-NYv_C8ZbY2z"
      }
    },
    {
      "cell_type": "code",
      "source": [
        "print(f\"\\n# Modello combinato (prende la predizione più affidabile da ogni modello):\\n\\n- Nulla o Pochissima ☀️ {max(round(nulla_accuracy*100, 2), round(nulla_accuracy_resampled*100, 2))}%\\n- Leggera 🌦️ {max(round(leggera_accuracy*100, 2), round(leggera_accuracy_resampled*100, 2))}%\\n- Media 🌧️ {max(round(media_accuracy*100, 2), round(media_accuracy_resampled*100, 2))}%\\n- Forte ⛈️ {max(round(forte_accuracy*100, 2), round(forte_accuracy_resampled*100, 2))}%\\n\\n\")"
      ],
      "metadata": {
        "colab": {
          "base_uri": "https://localhost:8080/"
        },
        "id": "QWWOEQwlcb2Q",
        "outputId": "ad35671b-e775-4e40-895d-0aeccf03a915"
      },
      "execution_count": 71,
      "outputs": [
        {
          "output_type": "stream",
          "name": "stdout",
          "text": [
            "\n",
            "# Modello combinato (prende la predizione più affidabile da ogni modello):\n",
            "\n",
            "- Nulla o Pochissima ☀️ 87.36%\n",
            "- Leggera 🌦️ 57.38%\n",
            "- Media 🌧️ 47.44%\n",
            "- Forte ⛈️ 39.33%\n",
            "\n",
            "\n"
          ]
        }
      ]
    },
    {
      "cell_type": "markdown",
      "source": [
        "Una volta ideato il modello, possiamo crearlo in modo che, per qualsiasi input che gli passiamo, ci dica il caso di pioggia più probabile per il giorno dopo e la sua confidenza, aggiustata per l'accuratezza storica sopra calcolata"
      ],
      "metadata": {
        "id": "ApKoQ9oXcj9e"
      }
    },
    {
      "cell_type": "code",
      "source": [
        "def final_model_predict(input_to_predict):\n",
        "    df_input_to_predict = pd.DataFrame(input_to_predict, index=[1])\n",
        "\n",
        "    numerical_cols = [\"Anno\", \"TempMin [°C]\", \"TempMed [°C]\", \"TempMax [°C]\", \"UmiditaMed [%]\", \"UmiditaMax [%]\", \"VentoMed [km/h]\", \"VentoMax [km/h]\", \"Radiazione [J/m2]\", \"Pressione [Pa]\", \"mmPioggia\"]\n",
        "    categorical_cols = [\"Mese\", \"PosizioneMese\", \"DirVentoMax\"]\n",
        "\n",
        "    df_input_to_predict[numerical_cols] = imputer.transform(df_input_to_predict[numerical_cols])\n",
        "\n",
        "    df_input_to_predict[numerical_cols] = scaler.transform(df_input_to_predict[numerical_cols])\n",
        "\n",
        "    encoded = encoder.transform(df_input_to_predict[categorical_cols]).toarray()\n",
        "    encoded_df = pd.DataFrame(encoded, columns=encoder.get_feature_names_out(categorical_cols), index=df_input_to_predict.index)\n",
        "    df_input_to_predict = pd.concat([df_input_to_predict.drop(columns=categorical_cols), encoded_df], axis=1)\n",
        "\n",
        "\n",
        "    model_accuracy_from_output = {\"Nulla o Pochissima\": nulla_accuracy, \"Leggera\": leggera_accuracy, \"Media\": media_accuracy, \"Forte\": forte_accuracy}\n",
        "    model_resampled_accuracy_from_output = {\"Nulla o Pochissima\": nulla_accuracy_resampled, \"Leggera\": leggera_accuracy_resampled, \"Media\": media_accuracy_resampled, \"Forte\": forte_accuracy_resampled}\n",
        "    emoji_from_output = {\"Nulla o Pochissima\": \"☀️\", \"Leggera\": \"🌦️\", \"Media\": \"🌧️\", \"Forte\": \"⛈️\"}\n",
        "\n",
        "    output = model.predict(df_input_to_predict)[0]\n",
        "    output_resampled = model_resampled.predict(df_input_to_predict)[0]\n",
        "\n",
        "    idx_output = list(model.classes_).index(output)\n",
        "    idx_output_resampled = list(model_resampled.classes_).index(output_resampled)\n",
        "\n",
        "    output_conf = round(model.predict_proba(df_input_to_predict)[0][idx_output]*100, 2)\n",
        "    output_resampled_conf = round(model_resampled.predict_proba(df_input_to_predict)[0][idx_output_resampled]*100, 2)\n",
        "\n",
        "    accuracy_model = round(model_accuracy_from_output[output]*100, 2)\n",
        "    accuracy_model_resampled = round(model_resampled_accuracy_from_output[output_resampled]*100, 2)\n",
        "\n",
        "    if accuracy_model >= accuracy_model_resampled:\n",
        "        chosen_output = output\n",
        "        chosen_model = model\n",
        "        emoji = emoji_from_output[output]\n",
        "        print(f\"\\nDomani sarà --> {output} {emoji} con {round(output_conf*accuracy_model/100, 2)}% di confidenza contando l'accuratezza storica\\n\")\n",
        "    else:\n",
        "        chosen_output = output_resampled\n",
        "        chosen_model = model_resampled\n",
        "        emoji = emoji_from_output[output_resampled]\n",
        "        print(f\"\\nDomani sarà --> {output_resampled} {emoji} con {round(output_resampled_conf*accuracy_model_resampled/100, 2)}% di confidenza contando l'accuratezza storica\\n\")"
      ],
      "metadata": {
        "id": "u6xBlmllUmAm"
      },
      "execution_count": 72,
      "outputs": []
    },
    {
      "cell_type": "markdown",
      "source": [
        "Ora possiamo immettere i dati della giornata in questione nel codice sotto"
      ],
      "metadata": {
        "id": "dF4T5yQ0dkjB"
      }
    },
    {
      "cell_type": "code",
      "source": [
        "input_to_predict = {\n",
        "    \"Anno\": 2025, # Anno della predizione\n",
        "    \"Mese\": \"Lug\", # Mese della predizione (abbreviato, 3 lettere, prima lettera maiuscola)\n",
        "    \"PosizioneMese\": \"Fine\", # In che fase del mese si trova (\"Inizio\", \"Meta\", \"Fine\")\n",
        "    \"DirVentoMax\": \"SO\", # Direzione cardinale del vento massima velocità (Anche combinazioni es. \"SO\")\n",
        "    \"TempMin [°C]\": 16.3, # Temperatura minima registrata (°C)\n",
        "    \"TempMed [°C]\": 22.7, # Temperatura media registrata (°C)\n",
        "    \"TempMax [°C]\": 28.6, # Temperatura massima registrata (°C)\n",
        "    \"UmiditaMed [%]\": 64, # Umidità media registrata (%)\n",
        "    \"UmiditaMax [%]\": 91, # Umidità massima registrata (%)\n",
        "    \"VentoMed [km/h]\": 6, # Velocità media del vento (km/h)\n",
        "    \"VentoMax [km/h]\": 23, # Velocità massima del vento (km/h)\n",
        "    \"Radiazione [J/m2]\": 27270000, # Irradiamento solare totale [J/m2]\n",
        "    \"Pressione [Pa]\": 100430, # Pressiona atmosferica media (Pascal)\n",
        "    \"mmPioggia\": 0 # Millimetri di pioggia totali (anche scritti come Litri per m2)\n",
        "}"
      ],
      "metadata": {
        "id": "7_sHxbqDdyld"
      },
      "execution_count": 73,
      "outputs": []
    },
    {
      "cell_type": "markdown",
      "source": [
        "Ed ora possiamo chiamare la funzione con i dati appena inseriti"
      ],
      "metadata": {
        "id": "l9u0KDrBd1I6"
      }
    },
    {
      "cell_type": "code",
      "source": [
        "final_model_predict(input_to_predict)"
      ],
      "metadata": {
        "colab": {
          "base_uri": "https://localhost:8080/"
        },
        "id": "L9AE3dgld7H2",
        "outputId": "f852f2e6-5fd2-4e26-a374-4071b989b2ff"
      },
      "execution_count": 74,
      "outputs": [
        {
          "output_type": "stream",
          "name": "stdout",
          "text": [
            "\n",
            "Domani sarà --> Nulla o Pochissima ☀️ con 43.68% di confidenza contando l'accuratezza storica\n",
            "\n"
          ]
        }
      ]
    },
    {
      "cell_type": "markdown",
      "source": [
        "Se si vuole, si possono anche modificare i dati a proprio piacimento, modificando i valori tra i due punti (:) e la virgola (,) seguendo le unità di misura quando questi sono di tipo numerico.\n",
        "\n",
        "Quando invece sono di tipo testuale (stringa), ricordarsi di racchiudere sempre il testo tra le virgolette (\" \")"
      ],
      "metadata": {
        "id": "MjpIrKbJd-hR"
      }
    },
    {
      "cell_type": "markdown",
      "source": [
        "# Conclusione\n",
        "\n",
        "Questo modello non è completo, e non sarà nemmeno il più accurato o efficiente, tuttavia offre un buon punto di partenza per modellazioni meteorologiche su dataset locali.\n",
        "\n",
        "Spero possa servire utile, e spero abbia servito come prova del fatto che tramite programmi del genere è possibile fare cose molto più complesse di quelle che ci si può aspettare\n",
        "\n",
        "-\n",
        "\n",
        "*Scolz F.*"
      ],
      "metadata": {
        "id": "5RJSWnoHfDeY"
      }
    }
  ]
}